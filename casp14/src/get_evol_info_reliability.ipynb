{
 "metadata": {
  "orig_nbformat": 2,
  "kernelspec": {
   "name": "python3",
   "display_name": "Python 3"
  }
 },
 "nbformat": 4,
 "nbformat_minor": 2,
 "cells": [
  {
   "source": [
    "# analyze the effect of evolutional information (profile, local structure prediction)"
   ],
   "cell_type": "markdown",
   "metadata": {}
  },
  {
   "cell_type": "code",
   "execution_count": 1,
   "metadata": {},
   "outputs": [],
   "source": [
    "import matplotlib.pyplot as plt\n",
    "import numpy as np\n",
    "import pandas as pd\n",
    "import seaborn as sns\n",
    "pd.options.display.float_format = '{:.3f}'.format\n",
    "plt.rcParams[\"figure.dpi\"] = 150\n",
    "sns.set(style='darkgrid')\n",
    "from sklearn.metrics import mean_absolute_error, mean_squared_error\n",
    "from IPython.display import display\n",
    "from pathlib import Path"
   ]
  },
  {
   "source": [
    "## compare local structure between native and predicted"
   ],
   "cell_type": "markdown",
   "metadata": {}
  },
  {
   "source": [
    "### compare secondary structure"
   ],
   "cell_type": "markdown",
   "metadata": {}
  },
  {
   "cell_type": "code",
   "execution_count": 2,
   "metadata": {},
   "outputs": [],
   "source": [
    "# get observed ss\n",
    "def get_observed_ss(file_path):\n",
    "    ss_dict = {'H': 0, 'G': 0, 'I': 0, 'E': 1, 'B': 1, 'b': 1, 'T': 2, 'C': 2}\n",
    "    with open(file_path, 'r') as f:\n",
    "        lines = [line.split() for line in f.readlines()]\n",
    "        lines = list(filter(lambda x: x[0] == 'ASG', lines))\n",
    "        ss = np.array([[line[3], ss_dict[line[5]]] for line in lines], dtype=np.int32)\n",
    "        df = pd.DataFrame({'resnum': ss[:, 0], 'native_ss': ss[:, 1]})\n",
    "        return df\n",
    "\n",
    "# get predicted local structure\n",
    "def get_predicted_ss(file_path):\n",
    "    ss_dict = {'H': 0, 'G': 0, 'I': 0, 'E': 1, 'B': 1, 'b': 1, 'T': 2, 'C': 2}\n",
    "    with open(file_path, 'r') as f:\n",
    "        lines = f.readlines()[1].strip()\n",
    "        ss = np.array([[i + 1, ss_dict[line]] for i, line in enumerate(lines)], dtype=np.int32)\n",
    "        df = pd.DataFrame({'resnum': ss[:, 0], 'pre_ss': ss[:, 1]})\n",
    "        return df\n",
    "\n",
    "def get_ss(target_name):\n",
    "    ob_path = (Path('../native_local') / target_name).with_suffix('.ss')\n",
    "    pre_path = (Path('../profile') / target_name / target_name).with_suffix('.ss')\n",
    "    ob_ss = get_observed_ss(str(ob_path))\n",
    "    pre_ss = get_predicted_ss(str(pre_path))\n",
    "    df = pd.merge(ob_ss, pre_ss, on='resnum', how='inner')\n",
    "    return df"
   ]
  },
  {
   "cell_type": "code",
   "execution_count": 3,
   "metadata": {},
   "outputs": [
    {
     "output_type": "execute_result",
     "data": {
      "text/plain": [
       "     resnum  native_ss  pre_ss\n",
       "0         2          2       2\n",
       "1         3          0       2\n",
       "2         4          0       0\n",
       "3         5          0       2\n",
       "4         6          0       2\n",
       "..      ...        ...     ...\n",
       "386     402          0       0\n",
       "387     403          0       0\n",
       "388     404          0       2\n",
       "389     405          0       2\n",
       "390     406          2       2\n",
       "\n",
       "[391 rows x 3 columns]"
      ],
      "text/html": "<div>\n<style scoped>\n    .dataframe tbody tr th:only-of-type {\n        vertical-align: middle;\n    }\n\n    .dataframe tbody tr th {\n        vertical-align: top;\n    }\n\n    .dataframe thead th {\n        text-align: right;\n    }\n</style>\n<table border=\"1\" class=\"dataframe\">\n  <thead>\n    <tr style=\"text-align: right;\">\n      <th></th>\n      <th>resnum</th>\n      <th>native_ss</th>\n      <th>pre_ss</th>\n    </tr>\n  </thead>\n  <tbody>\n    <tr>\n      <th>0</th>\n      <td>2</td>\n      <td>2</td>\n      <td>2</td>\n    </tr>\n    <tr>\n      <th>1</th>\n      <td>3</td>\n      <td>0</td>\n      <td>2</td>\n    </tr>\n    <tr>\n      <th>2</th>\n      <td>4</td>\n      <td>0</td>\n      <td>0</td>\n    </tr>\n    <tr>\n      <th>3</th>\n      <td>5</td>\n      <td>0</td>\n      <td>2</td>\n    </tr>\n    <tr>\n      <th>4</th>\n      <td>6</td>\n      <td>0</td>\n      <td>2</td>\n    </tr>\n    <tr>\n      <th>...</th>\n      <td>...</td>\n      <td>...</td>\n      <td>...</td>\n    </tr>\n    <tr>\n      <th>386</th>\n      <td>402</td>\n      <td>0</td>\n      <td>0</td>\n    </tr>\n    <tr>\n      <th>387</th>\n      <td>403</td>\n      <td>0</td>\n      <td>0</td>\n    </tr>\n    <tr>\n      <th>388</th>\n      <td>404</td>\n      <td>0</td>\n      <td>2</td>\n    </tr>\n    <tr>\n      <th>389</th>\n      <td>405</td>\n      <td>0</td>\n      <td>2</td>\n    </tr>\n    <tr>\n      <th>390</th>\n      <td>406</td>\n      <td>2</td>\n      <td>2</td>\n    </tr>\n  </tbody>\n</table>\n<p>391 rows × 3 columns</p>\n</div>"
     },
     "metadata": {},
     "execution_count": 3
    }
   ],
   "source": [
    "get_ss('T1024')"
   ]
  },
  {
   "source": [
    "### compare rsa"
   ],
   "cell_type": "markdown",
   "metadata": {}
  },
  {
   "cell_type": "code",
   "execution_count": 4,
   "metadata": {},
   "outputs": [],
   "source": [
    "# get observed rsa\n",
    "def get_observed_rsa(file_path):\n",
    "    with open(file_path, 'r') as f:\n",
    "        lines = [line.split() for line in f.readlines()]\n",
    "        lines = list(filter(lambda x: x[0] == 'RES', lines))\n",
    "        rsa = np.array([[line[2], -1] if line[4] == '  N/A' else [line[2], float(line[4])] for line in lines])\n",
    "        df = pd.DataFrame({'resnum': rsa[:, 0], 'native_rsa': rsa[:, 1]})\n",
    "        return df\n",
    "\n",
    "# get predicted rsa\n",
    "def get_predicted_rsa(file_path):\n",
    "    with open(file_path, 'r') as f:\n",
    "        lines = f.readlines()[1].strip().split()\n",
    "        rsa = np.array([[i + 1, r] for i, r in enumerate(lines)])\n",
    "        df = pd.DataFrame({'resnum': rsa[:, 0], 'pre_rsa': rsa[:, 1]})\n",
    "        return df\n",
    "\n",
    "def get_rsa(target_name):\n",
    "    ob_path = (Path('../native_local') / target_name).with_suffix('.rsa')\n",
    "    pre_path = (Path('../profile') / target_name / target_name).with_suffix('.acc20')\n",
    "    ob_rsa = get_observed_rsa(str(ob_path))\n",
    "    pre_rsa = get_predicted_rsa(str(pre_path))\n",
    "    df = pd.merge(ob_rsa, pre_rsa, on='resnum', how='inner')\n",
    "    df['resnum'] = df['resnum'].astype(np.int32)\n",
    "    return df"
   ]
  },
  {
   "cell_type": "code",
   "execution_count": 5,
   "metadata": {},
   "outputs": [
    {
     "output_type": "execute_result",
     "data": {
      "text/plain": [
       "     resnum native_rsa pre_rsa\n",
       "0         2       57.5      65\n",
       "1         3       51.1      50\n",
       "2         4       46.8      10\n",
       "3         5       31.2      45\n",
       "4         6       90.3      65\n",
       "..      ...        ...     ...\n",
       "386     402       31.3      40\n",
       "387     403       63.5      50\n",
       "388     404       85.3      55\n",
       "389     405       61.5      55\n",
       "390     406      112.2      60\n",
       "\n",
       "[391 rows x 3 columns]"
      ],
      "text/html": "<div>\n<style scoped>\n    .dataframe tbody tr th:only-of-type {\n        vertical-align: middle;\n    }\n\n    .dataframe tbody tr th {\n        vertical-align: top;\n    }\n\n    .dataframe thead th {\n        text-align: right;\n    }\n</style>\n<table border=\"1\" class=\"dataframe\">\n  <thead>\n    <tr style=\"text-align: right;\">\n      <th></th>\n      <th>resnum</th>\n      <th>native_rsa</th>\n      <th>pre_rsa</th>\n    </tr>\n  </thead>\n  <tbody>\n    <tr>\n      <th>0</th>\n      <td>2</td>\n      <td>57.5</td>\n      <td>65</td>\n    </tr>\n    <tr>\n      <th>1</th>\n      <td>3</td>\n      <td>51.1</td>\n      <td>50</td>\n    </tr>\n    <tr>\n      <th>2</th>\n      <td>4</td>\n      <td>46.8</td>\n      <td>10</td>\n    </tr>\n    <tr>\n      <th>3</th>\n      <td>5</td>\n      <td>31.2</td>\n      <td>45</td>\n    </tr>\n    <tr>\n      <th>4</th>\n      <td>6</td>\n      <td>90.3</td>\n      <td>65</td>\n    </tr>\n    <tr>\n      <th>...</th>\n      <td>...</td>\n      <td>...</td>\n      <td>...</td>\n    </tr>\n    <tr>\n      <th>386</th>\n      <td>402</td>\n      <td>31.3</td>\n      <td>40</td>\n    </tr>\n    <tr>\n      <th>387</th>\n      <td>403</td>\n      <td>63.5</td>\n      <td>50</td>\n    </tr>\n    <tr>\n      <th>388</th>\n      <td>404</td>\n      <td>85.3</td>\n      <td>55</td>\n    </tr>\n    <tr>\n      <th>389</th>\n      <td>405</td>\n      <td>61.5</td>\n      <td>55</td>\n    </tr>\n    <tr>\n      <th>390</th>\n      <td>406</td>\n      <td>112.2</td>\n      <td>60</td>\n    </tr>\n  </tbody>\n</table>\n<p>391 rows × 3 columns</p>\n</div>"
     },
     "metadata": {},
     "execution_count": 5
    }
   ],
   "source": [
    "get_rsa('T1024')"
   ]
  },
  {
   "cell_type": "code",
   "execution_count": 6,
   "metadata": {},
   "outputs": [
    {
     "output_type": "stream",
     "name": "stdout",
     "text": [
      "<class 'pandas.core.frame.DataFrame'>\nInt64Index: 391 entries, 0 to 390\nData columns (total 3 columns):\n #   Column     Non-Null Count  Dtype\n---  ------     --------------  -----\n 0   resnum     391 non-null    int32\n 1   native_ss  391 non-null    int32\n 2   pre_ss     391 non-null    int32\ndtypes: int32(3)\nmemory usage: 7.6 KB\n<class 'pandas.core.frame.DataFrame'>\nInt64Index: 391 entries, 0 to 390\nData columns (total 3 columns):\n #   Column      Non-Null Count  Dtype \n---  ------      --------------  ----- \n 0   resnum      391 non-null    int32 \n 1   native_rsa  391 non-null    object\n 2   pre_rsa     391 non-null    object\ndtypes: int32(1), object(2)\nmemory usage: 10.7+ KB\nNone None\n"
     ]
    }
   ],
   "source": [
    "target = 'T1024'\n",
    "ss = get_ss(target)\n",
    "rsa = get_rsa(target)\n",
    "print(ss.info(), rsa.info())"
   ]
  },
  {
   "cell_type": "code",
   "execution_count": 7,
   "metadata": {},
   "outputs": [
    {
     "output_type": "stream",
     "name": "stdout",
     "text": [
      "T1044\n"
     ]
    }
   ],
   "source": [
    "native_pdb_dir = Path('../native')\n",
    "df_array = []\n",
    "for target in native_pdb_dir.glob('*.pdb'):\n",
    "    target = target.stem\n",
    "    try:\n",
    "        ss, rsa = get_ss(target), get_rsa(target)\n",
    "    except FileNotFoundError:\n",
    "        print(target)\n",
    "    else:\n",
    "        df = pd.merge(ss, rsa, on='resnum', how='outer')\n",
    "        df['Target'] = target\n",
    "        df_array.append(df)\n",
    "local_df = pd.concat(df_array)"
   ]
  },
  {
   "cell_type": "code",
   "execution_count": 8,
   "metadata": {},
   "outputs": [],
   "source": [
    "local_df.to_csv('../data/casp14_local_structure.csv')"
   ]
  },
  {
   "cell_type": "code",
   "execution_count": 9,
   "metadata": {},
   "outputs": [
    {
     "output_type": "execute_result",
     "data": {
      "text/plain": [
       "0.775480907263853"
      ]
     },
     "metadata": {},
     "execution_count": 9
    }
   ],
   "source": [
    "from sklearn import metrics\n",
    "metrics.accuracy_score(local_df['native_ss'], local_df['pre_ss'])"
   ]
  },
  {
   "cell_type": "code",
   "execution_count": 10,
   "metadata": {},
   "outputs": [
    {
     "output_type": "execute_result",
     "data": {
      "text/plain": [
       "array([[2071,  119,  442],\n",
       "       [  81, 1172,  375],\n",
       "       [ 305,  242, 2159]])"
      ]
     },
     "metadata": {},
     "execution_count": 10
    }
   ],
   "source": [
    "metrics.confusion_matrix(local_df['native_ss'], local_df['pre_ss'])"
   ]
  },
  {
   "cell_type": "code",
   "execution_count": 11,
   "metadata": {},
   "outputs": [],
   "source": [
    "from sklearn import metrics\n",
    "metrics_array = []\n",
    "for name, group in local_df.groupby('Target'):\n",
    "    ss_acc = metrics.accuracy_score(group['native_ss'], group['pre_ss'])\n",
    "    rsa_mae = metrics.mean_absolute_error(group['native_rsa'], group['pre_ss'])\n",
    "    metrics_array.append([name, ss_acc, rsa_mae])"
   ]
  },
  {
   "cell_type": "code",
   "execution_count": 12,
   "metadata": {},
   "outputs": [
    {
     "output_type": "execute_result",
     "data": {
      "text/plain": [
       "     Target  ss_acc  rsa_mae\n",
       "0     T1024   0.908   27.108\n",
       "1     T1025   0.918   27.708\n",
       "2     T1026   0.603   33.329\n",
       "3     T1027   0.667   45.077\n",
       "4     T1029   0.736   42.630\n",
       "5     T1030   0.773   37.233\n",
       "6     T1031   0.632   41.544\n",
       "7     T1032   0.794   34.968\n",
       "8     T1033   0.790   39.657\n",
       "9     T1035   0.657   42.257\n",
       "10  T1036s1   0.928   38.535\n",
       "11    T1037   0.710   31.603\n",
       "12    T1038   0.642   35.674\n",
       "13    T1039   0.783   33.458\n",
       "14    T1040   0.700   46.872\n",
       "15    T1041   0.661   32.468\n",
       "16    T1042   0.652   36.880\n",
       "17    T1043   0.574   37.413\n",
       "18  T1046s1   0.764   39.722\n",
       "19  T1046s2   0.738   30.866\n",
       "20    T1049   0.679   32.845\n",
       "21    T1050   0.824   27.063\n",
       "22    T1054   0.860   37.126\n",
       "23    T1056   0.740   30.212\n",
       "24    T1064   0.667   40.280\n",
       "25    T1067   0.783   30.583\n",
       "26    T1073   0.847   44.908\n",
       "27    T1074   0.705   36.802\n",
       "28    T1079   0.838   28.621\n",
       "29    T1080   0.797   51.122\n",
       "30    T1082   0.707   40.987\n",
       "31    T1090   0.757   33.582\n",
       "32    T1099   0.835   38.210"
      ],
      "text/html": "<div>\n<style scoped>\n    .dataframe tbody tr th:only-of-type {\n        vertical-align: middle;\n    }\n\n    .dataframe tbody tr th {\n        vertical-align: top;\n    }\n\n    .dataframe thead th {\n        text-align: right;\n    }\n</style>\n<table border=\"1\" class=\"dataframe\">\n  <thead>\n    <tr style=\"text-align: right;\">\n      <th></th>\n      <th>Target</th>\n      <th>ss_acc</th>\n      <th>rsa_mae</th>\n    </tr>\n  </thead>\n  <tbody>\n    <tr>\n      <th>0</th>\n      <td>T1024</td>\n      <td>0.908</td>\n      <td>27.108</td>\n    </tr>\n    <tr>\n      <th>1</th>\n      <td>T1025</td>\n      <td>0.918</td>\n      <td>27.708</td>\n    </tr>\n    <tr>\n      <th>2</th>\n      <td>T1026</td>\n      <td>0.603</td>\n      <td>33.329</td>\n    </tr>\n    <tr>\n      <th>3</th>\n      <td>T1027</td>\n      <td>0.667</td>\n      <td>45.077</td>\n    </tr>\n    <tr>\n      <th>4</th>\n      <td>T1029</td>\n      <td>0.736</td>\n      <td>42.630</td>\n    </tr>\n    <tr>\n      <th>5</th>\n      <td>T1030</td>\n      <td>0.773</td>\n      <td>37.233</td>\n    </tr>\n    <tr>\n      <th>6</th>\n      <td>T1031</td>\n      <td>0.632</td>\n      <td>41.544</td>\n    </tr>\n    <tr>\n      <th>7</th>\n      <td>T1032</td>\n      <td>0.794</td>\n      <td>34.968</td>\n    </tr>\n    <tr>\n      <th>8</th>\n      <td>T1033</td>\n      <td>0.790</td>\n      <td>39.657</td>\n    </tr>\n    <tr>\n      <th>9</th>\n      <td>T1035</td>\n      <td>0.657</td>\n      <td>42.257</td>\n    </tr>\n    <tr>\n      <th>10</th>\n      <td>T1036s1</td>\n      <td>0.928</td>\n      <td>38.535</td>\n    </tr>\n    <tr>\n      <th>11</th>\n      <td>T1037</td>\n      <td>0.710</td>\n      <td>31.603</td>\n    </tr>\n    <tr>\n      <th>12</th>\n      <td>T1038</td>\n      <td>0.642</td>\n      <td>35.674</td>\n    </tr>\n    <tr>\n      <th>13</th>\n      <td>T1039</td>\n      <td>0.783</td>\n      <td>33.458</td>\n    </tr>\n    <tr>\n      <th>14</th>\n      <td>T1040</td>\n      <td>0.700</td>\n      <td>46.872</td>\n    </tr>\n    <tr>\n      <th>15</th>\n      <td>T1041</td>\n      <td>0.661</td>\n      <td>32.468</td>\n    </tr>\n    <tr>\n      <th>16</th>\n      <td>T1042</td>\n      <td>0.652</td>\n      <td>36.880</td>\n    </tr>\n    <tr>\n      <th>17</th>\n      <td>T1043</td>\n      <td>0.574</td>\n      <td>37.413</td>\n    </tr>\n    <tr>\n      <th>18</th>\n      <td>T1046s1</td>\n      <td>0.764</td>\n      <td>39.722</td>\n    </tr>\n    <tr>\n      <th>19</th>\n      <td>T1046s2</td>\n      <td>0.738</td>\n      <td>30.866</td>\n    </tr>\n    <tr>\n      <th>20</th>\n      <td>T1049</td>\n      <td>0.679</td>\n      <td>32.845</td>\n    </tr>\n    <tr>\n      <th>21</th>\n      <td>T1050</td>\n      <td>0.824</td>\n      <td>27.063</td>\n    </tr>\n    <tr>\n      <th>22</th>\n      <td>T1054</td>\n      <td>0.860</td>\n      <td>37.126</td>\n    </tr>\n    <tr>\n      <th>23</th>\n      <td>T1056</td>\n      <td>0.740</td>\n      <td>30.212</td>\n    </tr>\n    <tr>\n      <th>24</th>\n      <td>T1064</td>\n      <td>0.667</td>\n      <td>40.280</td>\n    </tr>\n    <tr>\n      <th>25</th>\n      <td>T1067</td>\n      <td>0.783</td>\n      <td>30.583</td>\n    </tr>\n    <tr>\n      <th>26</th>\n      <td>T1073</td>\n      <td>0.847</td>\n      <td>44.908</td>\n    </tr>\n    <tr>\n      <th>27</th>\n      <td>T1074</td>\n      <td>0.705</td>\n      <td>36.802</td>\n    </tr>\n    <tr>\n      <th>28</th>\n      <td>T1079</td>\n      <td>0.838</td>\n      <td>28.621</td>\n    </tr>\n    <tr>\n      <th>29</th>\n      <td>T1080</td>\n      <td>0.797</td>\n      <td>51.122</td>\n    </tr>\n    <tr>\n      <th>30</th>\n      <td>T1082</td>\n      <td>0.707</td>\n      <td>40.987</td>\n    </tr>\n    <tr>\n      <th>31</th>\n      <td>T1090</td>\n      <td>0.757</td>\n      <td>33.582</td>\n    </tr>\n    <tr>\n      <th>32</th>\n      <td>T1099</td>\n      <td>0.835</td>\n      <td>38.210</td>\n    </tr>\n  </tbody>\n</table>\n</div>"
     },
     "metadata": {},
     "execution_count": 12
    }
   ],
   "source": [
    "target_local_df = pd.DataFrame(metrics_array, columns=['Target', 'ss_acc', 'rsa_mae'])\n",
    "# target_local_df.to_csv('../data/casp14_local_structure_target.csv')\n",
    "target_local_df"
   ]
  },
  {
   "source": [
    "## get psiblast result"
   ],
   "cell_type": "markdown",
   "metadata": {}
  },
  {
   "cell_type": "code",
   "execution_count": 13,
   "metadata": {},
   "outputs": [],
   "source": [
    "from Bio import SearchIO\n",
    "def read_blast_xml(file_path, iteration=2):\n",
    "    query_result = list(SearchIO.parse(file_path, 'blast-xml'))[iteration - 1]\n",
    "    return query_result"
   ]
  },
  {
   "cell_type": "code",
   "execution_count": 14,
   "metadata": {},
   "outputs": [],
   "source": [
    "import math\n",
    "def read_query_result(query_result):\n",
    "    hit_num = len(query_result)\n",
    "    mean_log_evalue = np.mean([hit[0].evalue for hit in query_result])\n",
    "    return hit_num, mean_log_evalue"
   ]
  },
  {
   "cell_type": "code",
   "execution_count": 15,
   "metadata": {},
   "outputs": [
    {
     "output_type": "execute_result",
     "data": {
      "text/plain": [
       "     Target  hit_num  mean_evalue\n",
       "0     T1087       36        1.765\n",
       "1     T1091      500        0.000\n",
       "2     T1033       26        1.576\n",
       "3     T1098      500        0.000\n",
       "4     T1064       37        1.955\n",
       "..      ...      ...          ...\n",
       "78    T1053      268        1.359\n",
       "79  T1072s1      447        1.492\n",
       "80    T1076      500        0.000\n",
       "81    T1090      454        0.265\n",
       "82  T1065s2      500        0.000\n",
       "\n",
       "[83 rows x 3 columns]"
      ],
      "text/html": "<div>\n<style scoped>\n    .dataframe tbody tr th:only-of-type {\n        vertical-align: middle;\n    }\n\n    .dataframe tbody tr th {\n        vertical-align: top;\n    }\n\n    .dataframe thead th {\n        text-align: right;\n    }\n</style>\n<table border=\"1\" class=\"dataframe\">\n  <thead>\n    <tr style=\"text-align: right;\">\n      <th></th>\n      <th>Target</th>\n      <th>hit_num</th>\n      <th>mean_evalue</th>\n    </tr>\n  </thead>\n  <tbody>\n    <tr>\n      <th>0</th>\n      <td>T1087</td>\n      <td>36</td>\n      <td>1.765</td>\n    </tr>\n    <tr>\n      <th>1</th>\n      <td>T1091</td>\n      <td>500</td>\n      <td>0.000</td>\n    </tr>\n    <tr>\n      <th>2</th>\n      <td>T1033</td>\n      <td>26</td>\n      <td>1.576</td>\n    </tr>\n    <tr>\n      <th>3</th>\n      <td>T1098</td>\n      <td>500</td>\n      <td>0.000</td>\n    </tr>\n    <tr>\n      <th>4</th>\n      <td>T1064</td>\n      <td>37</td>\n      <td>1.955</td>\n    </tr>\n    <tr>\n      <th>...</th>\n      <td>...</td>\n      <td>...</td>\n      <td>...</td>\n    </tr>\n    <tr>\n      <th>78</th>\n      <td>T1053</td>\n      <td>268</td>\n      <td>1.359</td>\n    </tr>\n    <tr>\n      <th>79</th>\n      <td>T1072s1</td>\n      <td>447</td>\n      <td>1.492</td>\n    </tr>\n    <tr>\n      <th>80</th>\n      <td>T1076</td>\n      <td>500</td>\n      <td>0.000</td>\n    </tr>\n    <tr>\n      <th>81</th>\n      <td>T1090</td>\n      <td>454</td>\n      <td>0.265</td>\n    </tr>\n    <tr>\n      <th>82</th>\n      <td>T1065s2</td>\n      <td>500</td>\n      <td>0.000</td>\n    </tr>\n  </tbody>\n</table>\n<p>83 rows × 3 columns</p>\n</div>"
     },
     "metadata": {},
     "execution_count": 15
    }
   ],
   "source": [
    "xml_dir = Path('../profile/blast')\n",
    "result_array = []\n",
    "for xml in xml_dir.glob('*.xml'):\n",
    "    target = xml.stem\n",
    "    query_result = read_blast_xml(xml)\n",
    "    hit_num, mean_log_evalue = read_query_result(query_result)\n",
    "    result_array.append([target, hit_num, mean_log_evalue])\n",
    "blast_df = pd.DataFrame(result_array, columns=['Target', 'hit_num', 'mean_evalue']) \n",
    "blast_df"
   ]
  },
  {
   "cell_type": "code",
   "execution_count": 16,
   "metadata": {},
   "outputs": [
    {
     "output_type": "execute_result",
     "data": {
      "text/plain": [
       "   Target  ss_acc  rsa_mae  hit_num  mean_evalue\n",
       "0   T1024   0.908   27.108      500        0.000\n",
       "1   T1025   0.918   27.708      500        0.000\n",
       "2   T1026   0.603   33.329       23        0.943\n",
       "3   T1027   0.667   45.077       26        0.666\n",
       "70  T1028     nan      nan      500        0.000\n",
       "..    ...     ...      ...      ...          ...\n",
       "42  T1096     nan      nan        8        0.080\n",
       "35  T1098     nan      nan      500        0.000\n",
       "32  T1099   0.835   38.210      446        0.158\n",
       "67  T1100     nan      nan      500        0.000\n",
       "45  T1101     nan      nan      500        0.000\n",
       "\n",
       "[83 rows x 5 columns]"
      ],
      "text/html": "<div>\n<style scoped>\n    .dataframe tbody tr th:only-of-type {\n        vertical-align: middle;\n    }\n\n    .dataframe tbody tr th {\n        vertical-align: top;\n    }\n\n    .dataframe thead th {\n        text-align: right;\n    }\n</style>\n<table border=\"1\" class=\"dataframe\">\n  <thead>\n    <tr style=\"text-align: right;\">\n      <th></th>\n      <th>Target</th>\n      <th>ss_acc</th>\n      <th>rsa_mae</th>\n      <th>hit_num</th>\n      <th>mean_evalue</th>\n    </tr>\n  </thead>\n  <tbody>\n    <tr>\n      <th>0</th>\n      <td>T1024</td>\n      <td>0.908</td>\n      <td>27.108</td>\n      <td>500</td>\n      <td>0.000</td>\n    </tr>\n    <tr>\n      <th>1</th>\n      <td>T1025</td>\n      <td>0.918</td>\n      <td>27.708</td>\n      <td>500</td>\n      <td>0.000</td>\n    </tr>\n    <tr>\n      <th>2</th>\n      <td>T1026</td>\n      <td>0.603</td>\n      <td>33.329</td>\n      <td>23</td>\n      <td>0.943</td>\n    </tr>\n    <tr>\n      <th>3</th>\n      <td>T1027</td>\n      <td>0.667</td>\n      <td>45.077</td>\n      <td>26</td>\n      <td>0.666</td>\n    </tr>\n    <tr>\n      <th>70</th>\n      <td>T1028</td>\n      <td>nan</td>\n      <td>nan</td>\n      <td>500</td>\n      <td>0.000</td>\n    </tr>\n    <tr>\n      <th>...</th>\n      <td>...</td>\n      <td>...</td>\n      <td>...</td>\n      <td>...</td>\n      <td>...</td>\n    </tr>\n    <tr>\n      <th>42</th>\n      <td>T1096</td>\n      <td>nan</td>\n      <td>nan</td>\n      <td>8</td>\n      <td>0.080</td>\n    </tr>\n    <tr>\n      <th>35</th>\n      <td>T1098</td>\n      <td>nan</td>\n      <td>nan</td>\n      <td>500</td>\n      <td>0.000</td>\n    </tr>\n    <tr>\n      <th>32</th>\n      <td>T1099</td>\n      <td>0.835</td>\n      <td>38.210</td>\n      <td>446</td>\n      <td>0.158</td>\n    </tr>\n    <tr>\n      <th>67</th>\n      <td>T1100</td>\n      <td>nan</td>\n      <td>nan</td>\n      <td>500</td>\n      <td>0.000</td>\n    </tr>\n    <tr>\n      <th>45</th>\n      <td>T1101</td>\n      <td>nan</td>\n      <td>nan</td>\n      <td>500</td>\n      <td>0.000</td>\n    </tr>\n  </tbody>\n</table>\n<p>83 rows × 5 columns</p>\n</div>"
     },
     "metadata": {},
     "execution_count": 16
    }
   ],
   "source": [
    "target_evol_df = pd.merge(target_local_df, blast_df, on='Target', how='outer').sort_values('Target')\n",
    "target_evol_df"
   ]
  },
  {
   "cell_type": "code",
   "execution_count": 17,
   "metadata": {},
   "outputs": [],
   "source": [
    "target_evol_df.to_csv('../data/casp14_evolutional_info.csv')"
   ]
  }
 ]
}