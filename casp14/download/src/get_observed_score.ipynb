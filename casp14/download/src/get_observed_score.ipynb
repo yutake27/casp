{
 "metadata": {
  "language_info": {
   "codemirror_mode": {
    "name": "ipython",
    "version": 3
   },
   "file_extension": ".py",
   "mimetype": "text/x-python",
   "name": "python",
   "nbconvert_exporter": "python",
   "pygments_lexer": "ipython3",
   "version": "3.8.2-final"
  },
  "orig_nbformat": 2,
  "kernelspec": {
   "name": "python3",
   "display_name": "Python 3"
  }
 },
 "nbformat": 4,
 "nbformat_minor": 2,
 "cells": [
  {
   "cell_type": "code",
   "execution_count": 1,
   "metadata": {},
   "outputs": [],
   "source": [
    "import pandas as pd\n",
    "from pathlib import Path\n",
    "import numpy as np"
   ]
  },
  {
   "cell_type": "code",
   "execution_count": 2,
   "metadata": {},
   "outputs": [],
   "source": [
    "results_tables_path = '../results/tables'\n",
    "target_list = np.array(sorted([target.stem for target in Path(results_tables_path).glob('*.txt')]))"
   ]
  },
  {
   "cell_type": "code",
   "execution_count": 3,
   "metadata": {},
   "outputs": [
    {
     "output_type": "execute_result",
     "data": {
      "text/plain": [
       "array(['T1024', 'T1024-D1', 'T1024-D2', 'T1025-D1', 'T1026-D1',\n",
       "       'T1027-D1', 'T1028-D1', 'T1029-D1', 'T1030', 'T1030-D1',\n",
       "       'T1030-D2', 'T1031-D1', 'T1032-D1', 'T1033-D1', 'T1034-D1',\n",
       "       'T1035-D1', 'T1036s1-D1', 'T1037-D1', 'T1038', 'T1038-D1',\n",
       "       'T1038-D2', 'T1039-D1', 'T1040-D1', 'T1041-D1', 'T1042-D1',\n",
       "       'T1043-D1', 'T1045s1-D1', 'T1045s2-D1', 'T1046s1-D1', 'T1046s2-D1',\n",
       "       'T1047s1-D1', 'T1047s2', 'T1047s2-D1', 'T1047s2-D2', 'T1047s2-D3',\n",
       "       'T1049-D1', 'T1050', 'T1050-D1', 'T1050-D2', 'T1050-D3', 'T1052',\n",
       "       'T1052-D1', 'T1052-D2', 'T1052-D3', 'T1053', 'T1053-D1',\n",
       "       'T1053-D2', 'T1054', 'T1054-D1', 'T1055-D1', 'T1056-D1',\n",
       "       'T1057-D1', 'T1058', 'T1058-D1', 'T1058-D2', 'T1060s2-D1',\n",
       "       'T1060s3-D1', 'T1061', 'T1061-D1', 'T1061-D2', 'T1061-D3',\n",
       "       'T1064-D1', 'T1065s1-D1', 'T1065s2-D1', 'T1067-D1', 'T1068-D1',\n",
       "       'T1070', 'T1070-D1', 'T1070-D2', 'T1070-D3', 'T1070-D4',\n",
       "       'T1073-D1', 'T1074-D1', 'T1076-D1', 'T1078-D1', 'T1079-D1',\n",
       "       'T1080-D1', 'T1082-D1', 'T1083-D1', 'T1084-D1', 'T1085',\n",
       "       'T1085-D1', 'T1085-D2', 'T1085-D3', 'T1086', 'T1086-D1',\n",
       "       'T1086-D2', 'T1087-D1', 'T1088-D1', 'T1089-D1', 'T1090-D1',\n",
       "       'T1091', 'T1091-D1', 'T1091-D2', 'T1091-D3', 'T1091-D4', 'T1092',\n",
       "       'T1092-D1', 'T1092-D2', 'T1093', 'T1093-D1', 'T1093-D2',\n",
       "       'T1093-D3', 'T1094', 'T1094-D1', 'T1094-D2', 'T1095', 'T1095-D1',\n",
       "       'T1096', 'T1096-D1', 'T1096-D2', 'T1099-D1', 'T1100', 'T1100-D1',\n",
       "       'T1100-D2', 'T1101', 'T1101-D1', 'T1101-D2'], dtype='<U10')"
      ]
     },
     "metadata": {},
     "execution_count": 3
    }
   ],
   "source": [
    "target_list"
   ]
  },
  {
   "cell_type": "code",
   "execution_count": 4,
   "metadata": {},
   "outputs": [],
   "source": [
    "target_del_domain_list = np.array([target.split('-')[0] for target  in target_list])"
   ]
  },
  {
   "cell_type": "code",
   "execution_count": 5,
   "metadata": {},
   "outputs": [
    {
     "output_type": "execute_result",
     "data": {
      "text/plain": [
       "array(['T1024', 'T1024', 'T1024', 'T1025', 'T1026', 'T1027', 'T1028',\n",
       "       'T1029', 'T1030', 'T1030', 'T1030', 'T1031', 'T1032', 'T1033',\n",
       "       'T1034', 'T1035', 'T1036s1', 'T1037', 'T1038', 'T1038', 'T1038',\n",
       "       'T1039', 'T1040', 'T1041', 'T1042', 'T1043', 'T1045s1', 'T1045s2',\n",
       "       'T1046s1', 'T1046s2', 'T1047s1', 'T1047s2', 'T1047s2', 'T1047s2',\n",
       "       'T1047s2', 'T1049', 'T1050', 'T1050', 'T1050', 'T1050', 'T1052',\n",
       "       'T1052', 'T1052', 'T1052', 'T1053', 'T1053', 'T1053', 'T1054',\n",
       "       'T1054', 'T1055', 'T1056', 'T1057', 'T1058', 'T1058', 'T1058',\n",
       "       'T1060s2', 'T1060s3', 'T1061', 'T1061', 'T1061', 'T1061', 'T1064',\n",
       "       'T1065s1', 'T1065s2', 'T1067', 'T1068', 'T1070', 'T1070', 'T1070',\n",
       "       'T1070', 'T1070', 'T1073', 'T1074', 'T1076', 'T1078', 'T1079',\n",
       "       'T1080', 'T1082', 'T1083', 'T1084', 'T1085', 'T1085', 'T1085',\n",
       "       'T1085', 'T1086', 'T1086', 'T1086', 'T1087', 'T1088', 'T1089',\n",
       "       'T1090', 'T1091', 'T1091', 'T1091', 'T1091', 'T1091', 'T1092',\n",
       "       'T1092', 'T1092', 'T1093', 'T1093', 'T1093', 'T1093', 'T1094',\n",
       "       'T1094', 'T1094', 'T1095', 'T1095', 'T1096', 'T1096', 'T1096',\n",
       "       'T1099', 'T1100', 'T1100', 'T1100', 'T1101', 'T1101', 'T1101'],\n",
       "      dtype='<U7')"
      ]
     },
     "metadata": {},
     "execution_count": 5
    }
   ],
   "source": [
    "target_del_domain_list"
   ]
  },
  {
   "cell_type": "code",
   "execution_count": 6,
   "metadata": {},
   "outputs": [],
   "source": [
    "_, index = np.unique(target_del_domain_list, return_index=True)"
   ]
  },
  {
   "cell_type": "code",
   "execution_count": 7,
   "metadata": {},
   "outputs": [
    {
     "output_type": "execute_result",
     "data": {
      "text/plain": [
       "array([  0,   3,   4,   5,   6,   7,   8,  11,  12,  13,  14,  15,  16,\n",
       "        17,  18,  21,  22,  23,  24,  25,  26,  27,  28,  29,  30,  31,\n",
       "        35,  36,  40,  44,  47,  49,  50,  51,  52,  55,  56,  57,  61,\n",
       "        62,  63,  64,  65,  66,  71,  72,  73,  74,  75,  76,  77,  78,\n",
       "        79,  80,  84,  87,  88,  89,  90,  91,  96,  99, 103, 106, 108,\n",
       "       111, 112, 115])"
      ]
     },
     "metadata": {},
     "execution_count": 7
    }
   ],
   "source": [
    "index"
   ]
  },
  {
   "cell_type": "code",
   "execution_count": 8,
   "metadata": {},
   "outputs": [],
   "source": [
    "target_mqa_list = np.array(target_list)[index]"
   ]
  },
  {
   "cell_type": "code",
   "execution_count": 9,
   "metadata": {},
   "outputs": [
    {
     "output_type": "execute_result",
     "data": {
      "text/plain": [
       "array(['T1024', 'T1025-D1', 'T1026-D1', 'T1027-D1', 'T1028-D1',\n",
       "       'T1029-D1', 'T1030', 'T1031-D1', 'T1032-D1', 'T1033-D1',\n",
       "       'T1034-D1', 'T1035-D1', 'T1036s1-D1', 'T1037-D1', 'T1038',\n",
       "       'T1039-D1', 'T1040-D1', 'T1041-D1', 'T1042-D1', 'T1043-D1',\n",
       "       'T1045s1-D1', 'T1045s2-D1', 'T1046s1-D1', 'T1046s2-D1',\n",
       "       'T1047s1-D1', 'T1047s2', 'T1049-D1', 'T1050', 'T1052', 'T1053',\n",
       "       'T1054', 'T1055-D1', 'T1056-D1', 'T1057-D1', 'T1058', 'T1060s2-D1',\n",
       "       'T1060s3-D1', 'T1061', 'T1064-D1', 'T1065s1-D1', 'T1065s2-D1',\n",
       "       'T1067-D1', 'T1068-D1', 'T1070', 'T1073-D1', 'T1074-D1',\n",
       "       'T1076-D1', 'T1078-D1', 'T1079-D1', 'T1080-D1', 'T1082-D1',\n",
       "       'T1083-D1', 'T1084-D1', 'T1085', 'T1086', 'T1087-D1', 'T1088-D1',\n",
       "       'T1089-D1', 'T1090-D1', 'T1091', 'T1092', 'T1093', 'T1094',\n",
       "       'T1095', 'T1096', 'T1099-D1', 'T1100', 'T1101'], dtype='<U10')"
      ]
     },
     "metadata": {},
     "execution_count": 9
    }
   ],
   "source": [
    "target_mqa_list"
   ]
  },
  {
   "cell_type": "code",
   "execution_count": 10,
   "metadata": {},
   "outputs": [],
   "source": [
    "df_array = []\n",
    "for txt in Path(results_tables_path).glob('*.txt'):\n",
    "    df = pd.read_csv(txt, delim_whitespace=True)\n",
    "    if txt.stem in target_mqa_list:\n",
    "        df['Model'] = [model.split('-')[0] for model in df['Model']]\n",
    "    df_array.append(df)"
   ]
  },
  {
   "cell_type": "code",
   "execution_count": 11,
   "metadata": {},
   "outputs": [
    {
     "output_type": "execute_result",
     "data": {
      "text/plain": [
       "                  GR#  GDT_TS   NP_P  RANK  Z-M1-GDT  Z-MA-GDT  GDT_HA  \\\n",
       "Model                                                                    \n",
       "T1024TS427_4-D1   427   99.09  100.0     1       NaN      1.83   90.54   \n",
       "T1024TS427_3-D1   427   96.63  100.0     2       NaN      1.66   83.16   \n",
       "T1024TS427_2-D1   427   95.86  100.0     3       NaN      1.61   85.62   \n",
       "T1024TS427_1-D1   427   94.04  100.0     4      1.46      1.49   80.57   \n",
       "T1024TS427_5-D1   427   93.00  100.0     5       NaN      1.42   77.85   \n",
       "...               ...     ...    ...   ...       ...       ...     ...   \n",
       "T1101TS340_2      340   10.02  100.0   488       NaN     -2.89    7.91   \n",
       "T1101TS305_2     305s    9.93  100.0   489       NaN     -2.90    6.06   \n",
       "T1101TS151_1     151s    7.24  100.0   490     -2.82     -3.12    3.87   \n",
       "T1101TS151_3     151s    7.24  100.0   490       NaN     -3.12    3.87   \n",
       "T1101TS151_2     151s    7.16  100.0   492       NaN     -3.12    3.79   \n",
       "\n",
       "                 GDC_SC  GDC_ALL  RMS_CA  ...  CONTS  TMscore  Dali(raw)  \\\n",
       "Model                                     ...                              \n",
       "T1024TS427_4-D1   71.65    85.22   0.575  ...  97.45     0.99     2473.0   \n",
       "T1024TS427_3-D1   67.55    80.71   0.754  ...  97.26     0.98     2456.9   \n",
       "T1024TS427_2-D1   66.51    80.26   0.833  ...  96.49     0.98     2408.8   \n",
       "T1024TS427_1-D1   61.98    73.05   1.056  ...  95.52     0.96     2294.5   \n",
       "T1024TS427_5-D1   63.58    74.93   0.988  ...  97.02     0.97     2410.2   \n",
       "...                 ...      ...     ...  ...    ...      ...        ...   \n",
       "T1101TS340_2       2.00     4.98  26.184  ...  37.47     0.15        NaN   \n",
       "T1101TS305_2       0.67     2.18  24.129  ...  40.56     0.19        NaN   \n",
       "T1101TS151_1       0.85     1.88  23.535  ...  27.80     0.16        NaN   \n",
       "T1101TS151_3       0.95     1.88  23.590  ...  28.17     0.16        NaN   \n",
       "T1101TS151_2       1.00     1.83  23.565  ...  27.76     0.16        NaN   \n",
       "\n",
       "                  FlexE    QSE  CAD_SS  MolPrb_clash  MolPrb_rotout  \\\n",
       "Model                                                                 \n",
       "T1024TS427_4-D1    0.25  97.85    0.70          2.31           0.65   \n",
       "T1024TS427_3-D1    0.25  97.78    0.69          3.63           0.65   \n",
       "T1024TS427_2-D1    0.32  97.36    0.68          1.98           0.65   \n",
       "T1024TS427_1-D1    0.34  96.88    0.64          1.65           1.94   \n",
       "T1024TS427_5-D1    0.26  97.55    0.68          3.96           0.00   \n",
       "...                 ...    ...     ...           ...            ...   \n",
       "T1101TS340_2     335.25  84.77    0.07         12.09           1.06   \n",
       "T1101TS305_2     263.80  20.83    0.09        173.24          13.83   \n",
       "T1101TS151_1     113.74    NaN    0.05         34.87           1.77   \n",
       "T1101TS151_3     109.60    NaN    0.05         31.11           3.19   \n",
       "T1101TS151_2     117.19    NaN    0.05         34.68           2.48   \n",
       "\n",
       "                 MolPrb_ramout  MolPrb_ramfv  \n",
       "Model                                         \n",
       "T1024TS427_4-D1           0.00         98.43  \n",
       "T1024TS427_3-D1           0.00         98.43  \n",
       "T1024TS427_2-D1           0.00         98.95  \n",
       "T1024TS427_1-D1           0.00         98.43  \n",
       "T1024TS427_5-D1           0.00         98.43  \n",
       "...                        ...           ...  \n",
       "T1101TS340_2              1.58         93.99  \n",
       "T1101TS305_2              3.48         89.56  \n",
       "T1101TS151_1              6.65         80.06  \n",
       "T1101TS151_3              8.54         79.75  \n",
       "T1101TS151_2              8.86         80.70  \n",
       "\n",
       "[60020 rows x 43 columns]"
      ],
      "text/html": "<div>\n<style scoped>\n    .dataframe tbody tr th:only-of-type {\n        vertical-align: middle;\n    }\n\n    .dataframe tbody tr th {\n        vertical-align: top;\n    }\n\n    .dataframe thead th {\n        text-align: right;\n    }\n</style>\n<table border=\"1\" class=\"dataframe\">\n  <thead>\n    <tr style=\"text-align: right;\">\n      <th></th>\n      <th>GR#</th>\n      <th>GDT_TS</th>\n      <th>NP_P</th>\n      <th>RANK</th>\n      <th>Z-M1-GDT</th>\n      <th>Z-MA-GDT</th>\n      <th>GDT_HA</th>\n      <th>GDC_SC</th>\n      <th>GDC_ALL</th>\n      <th>RMS_CA</th>\n      <th>...</th>\n      <th>CONTS</th>\n      <th>TMscore</th>\n      <th>Dali(raw)</th>\n      <th>FlexE</th>\n      <th>QSE</th>\n      <th>CAD_SS</th>\n      <th>MolPrb_clash</th>\n      <th>MolPrb_rotout</th>\n      <th>MolPrb_ramout</th>\n      <th>MolPrb_ramfv</th>\n    </tr>\n    <tr>\n      <th>Model</th>\n      <th></th>\n      <th></th>\n      <th></th>\n      <th></th>\n      <th></th>\n      <th></th>\n      <th></th>\n      <th></th>\n      <th></th>\n      <th></th>\n      <th></th>\n      <th></th>\n      <th></th>\n      <th></th>\n      <th></th>\n      <th></th>\n      <th></th>\n      <th></th>\n      <th></th>\n      <th></th>\n      <th></th>\n    </tr>\n  </thead>\n  <tbody>\n    <tr>\n      <th>T1024TS427_4-D1</th>\n      <td>427</td>\n      <td>99.09</td>\n      <td>100.0</td>\n      <td>1</td>\n      <td>NaN</td>\n      <td>1.83</td>\n      <td>90.54</td>\n      <td>71.65</td>\n      <td>85.22</td>\n      <td>0.575</td>\n      <td>...</td>\n      <td>97.45</td>\n      <td>0.99</td>\n      <td>2473.0</td>\n      <td>0.25</td>\n      <td>97.85</td>\n      <td>0.70</td>\n      <td>2.31</td>\n      <td>0.65</td>\n      <td>0.00</td>\n      <td>98.43</td>\n    </tr>\n    <tr>\n      <th>T1024TS427_3-D1</th>\n      <td>427</td>\n      <td>96.63</td>\n      <td>100.0</td>\n      <td>2</td>\n      <td>NaN</td>\n      <td>1.66</td>\n      <td>83.16</td>\n      <td>67.55</td>\n      <td>80.71</td>\n      <td>0.754</td>\n      <td>...</td>\n      <td>97.26</td>\n      <td>0.98</td>\n      <td>2456.9</td>\n      <td>0.25</td>\n      <td>97.78</td>\n      <td>0.69</td>\n      <td>3.63</td>\n      <td>0.65</td>\n      <td>0.00</td>\n      <td>98.43</td>\n    </tr>\n    <tr>\n      <th>T1024TS427_2-D1</th>\n      <td>427</td>\n      <td>95.86</td>\n      <td>100.0</td>\n      <td>3</td>\n      <td>NaN</td>\n      <td>1.61</td>\n      <td>85.62</td>\n      <td>66.51</td>\n      <td>80.26</td>\n      <td>0.833</td>\n      <td>...</td>\n      <td>96.49</td>\n      <td>0.98</td>\n      <td>2408.8</td>\n      <td>0.32</td>\n      <td>97.36</td>\n      <td>0.68</td>\n      <td>1.98</td>\n      <td>0.65</td>\n      <td>0.00</td>\n      <td>98.95</td>\n    </tr>\n    <tr>\n      <th>T1024TS427_1-D1</th>\n      <td>427</td>\n      <td>94.04</td>\n      <td>100.0</td>\n      <td>4</td>\n      <td>1.46</td>\n      <td>1.49</td>\n      <td>80.57</td>\n      <td>61.98</td>\n      <td>73.05</td>\n      <td>1.056</td>\n      <td>...</td>\n      <td>95.52</td>\n      <td>0.96</td>\n      <td>2294.5</td>\n      <td>0.34</td>\n      <td>96.88</td>\n      <td>0.64</td>\n      <td>1.65</td>\n      <td>1.94</td>\n      <td>0.00</td>\n      <td>98.43</td>\n    </tr>\n    <tr>\n      <th>T1024TS427_5-D1</th>\n      <td>427</td>\n      <td>93.00</td>\n      <td>100.0</td>\n      <td>5</td>\n      <td>NaN</td>\n      <td>1.42</td>\n      <td>77.85</td>\n      <td>63.58</td>\n      <td>74.93</td>\n      <td>0.988</td>\n      <td>...</td>\n      <td>97.02</td>\n      <td>0.97</td>\n      <td>2410.2</td>\n      <td>0.26</td>\n      <td>97.55</td>\n      <td>0.68</td>\n      <td>3.96</td>\n      <td>0.00</td>\n      <td>0.00</td>\n      <td>98.43</td>\n    </tr>\n    <tr>\n      <th>...</th>\n      <td>...</td>\n      <td>...</td>\n      <td>...</td>\n      <td>...</td>\n      <td>...</td>\n      <td>...</td>\n      <td>...</td>\n      <td>...</td>\n      <td>...</td>\n      <td>...</td>\n      <td>...</td>\n      <td>...</td>\n      <td>...</td>\n      <td>...</td>\n      <td>...</td>\n      <td>...</td>\n      <td>...</td>\n      <td>...</td>\n      <td>...</td>\n      <td>...</td>\n      <td>...</td>\n    </tr>\n    <tr>\n      <th>T1101TS340_2</th>\n      <td>340</td>\n      <td>10.02</td>\n      <td>100.0</td>\n      <td>488</td>\n      <td>NaN</td>\n      <td>-2.89</td>\n      <td>7.91</td>\n      <td>2.00</td>\n      <td>4.98</td>\n      <td>26.184</td>\n      <td>...</td>\n      <td>37.47</td>\n      <td>0.15</td>\n      <td>NaN</td>\n      <td>335.25</td>\n      <td>84.77</td>\n      <td>0.07</td>\n      <td>12.09</td>\n      <td>1.06</td>\n      <td>1.58</td>\n      <td>93.99</td>\n    </tr>\n    <tr>\n      <th>T1101TS305_2</th>\n      <td>305s</td>\n      <td>9.93</td>\n      <td>100.0</td>\n      <td>489</td>\n      <td>NaN</td>\n      <td>-2.90</td>\n      <td>6.06</td>\n      <td>0.67</td>\n      <td>2.18</td>\n      <td>24.129</td>\n      <td>...</td>\n      <td>40.56</td>\n      <td>0.19</td>\n      <td>NaN</td>\n      <td>263.80</td>\n      <td>20.83</td>\n      <td>0.09</td>\n      <td>173.24</td>\n      <td>13.83</td>\n      <td>3.48</td>\n      <td>89.56</td>\n    </tr>\n    <tr>\n      <th>T1101TS151_1</th>\n      <td>151s</td>\n      <td>7.24</td>\n      <td>100.0</td>\n      <td>490</td>\n      <td>-2.82</td>\n      <td>-3.12</td>\n      <td>3.87</td>\n      <td>0.85</td>\n      <td>1.88</td>\n      <td>23.535</td>\n      <td>...</td>\n      <td>27.80</td>\n      <td>0.16</td>\n      <td>NaN</td>\n      <td>113.74</td>\n      <td>NaN</td>\n      <td>0.05</td>\n      <td>34.87</td>\n      <td>1.77</td>\n      <td>6.65</td>\n      <td>80.06</td>\n    </tr>\n    <tr>\n      <th>T1101TS151_3</th>\n      <td>151s</td>\n      <td>7.24</td>\n      <td>100.0</td>\n      <td>490</td>\n      <td>NaN</td>\n      <td>-3.12</td>\n      <td>3.87</td>\n      <td>0.95</td>\n      <td>1.88</td>\n      <td>23.590</td>\n      <td>...</td>\n      <td>28.17</td>\n      <td>0.16</td>\n      <td>NaN</td>\n      <td>109.60</td>\n      <td>NaN</td>\n      <td>0.05</td>\n      <td>31.11</td>\n      <td>3.19</td>\n      <td>8.54</td>\n      <td>79.75</td>\n    </tr>\n    <tr>\n      <th>T1101TS151_2</th>\n      <td>151s</td>\n      <td>7.16</td>\n      <td>100.0</td>\n      <td>492</td>\n      <td>NaN</td>\n      <td>-3.12</td>\n      <td>3.79</td>\n      <td>1.00</td>\n      <td>1.83</td>\n      <td>23.565</td>\n      <td>...</td>\n      <td>27.76</td>\n      <td>0.16</td>\n      <td>NaN</td>\n      <td>117.19</td>\n      <td>NaN</td>\n      <td>0.05</td>\n      <td>34.68</td>\n      <td>2.48</td>\n      <td>8.86</td>\n      <td>80.70</td>\n    </tr>\n  </tbody>\n</table>\n<p>60020 rows × 43 columns</p>\n</div>"
     },
     "metadata": {},
     "execution_count": 11
    }
   ],
   "source": [
    "score_df = pd.concat(df_array).set_index('Model')\n",
    "score_df = score_df.drop(['#'], axis=1)\n",
    "score_df"
   ]
  },
  {
   "cell_type": "code",
   "execution_count": 12,
   "metadata": {},
   "outputs": [],
   "source": [
    "score_df.to_csv('../data/casp14_res_table.csv')"
   ]
  }
 ]
}