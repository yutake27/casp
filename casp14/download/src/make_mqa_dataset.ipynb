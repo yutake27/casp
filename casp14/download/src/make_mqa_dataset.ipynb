{
 "metadata": {
  "language_info": {
   "codemirror_mode": {
    "name": "ipython",
    "version": 3
   },
   "file_extension": ".py",
   "mimetype": "text/x-python",
   "name": "python",
   "nbconvert_exporter": "python",
   "pygments_lexer": "ipython3",
   "version": "3.8.2-final"
  },
  "orig_nbformat": 2,
  "kernelspec": {
   "name": "python3",
   "display_name": "Python 3"
  }
 },
 "nbformat": 4,
 "nbformat_minor": 2,
 "cells": [
  {
   "cell_type": "code",
   "execution_count": 42,
   "metadata": {},
   "outputs": [],
   "source": [
    "import os\n",
    "import shutil\n",
    "import pandas as pd\n",
    "import subprocess\n",
    "from pathlib import Path"
   ]
  },
  {
   "cell_type": "code",
   "execution_count": 10,
   "metadata": {},
   "outputs": [],
   "source": [
    "df = pd.read_csv('../data/casp14_stage2.csv', index_col=0)"
   ]
  },
  {
   "cell_type": "code",
   "execution_count": 11,
   "metadata": {},
   "outputs": [
    {
     "output_type": "execute_result",
     "data": {
      "text/plain": [
       "              3DCNN_prof    ProQ3D  GraphQA  angleQA  ProQ2  \\\n",
       "T1024TS075_1     0.66066  0.586251    0.649    0.467  0.598   \n",
       "T1024TS050_4     0.56958  0.540781    0.579    0.416  0.547   \n",
       "T1024TS211_4     0.56007  0.531768    0.584    0.419  0.541   \n",
       "T1024TS367_5     0.69797  0.684465    0.646    0.601  0.610   \n",
       "T1024TS278_1     0.69687  0.750612    0.716    0.487  0.738   \n",
       "...                  ...       ...      ...      ...    ...   \n",
       "T1101TS013_5     0.67675  0.653284    0.719    0.708  0.791   \n",
       "T1101TS031_4     0.71093  0.602920    0.668    0.693  0.666   \n",
       "T1101TS140_5     0.68995  0.624382    0.704    0.762  0.676   \n",
       "T1101TS435_4     0.66884  0.533206    0.666    0.692  0.691   \n",
       "T1101TS337_4     0.65246  0.579813    0.689    0.620  0.662   \n",
       "\n",
       "              DAVIS-EMAconsensus  BAKER-ROSETTASERVER  BAKER-experimental  \\\n",
       "T1024TS075_1             0.64812               0.6782              0.6175   \n",
       "T1024TS050_4             0.62409               0.6012              0.5421   \n",
       "T1024TS211_4             0.61050               0.6253              0.5918   \n",
       "T1024TS367_5             0.68982               0.7432              0.7308   \n",
       "T1024TS278_1             0.68287               0.7267              0.6677   \n",
       "...                          ...                  ...                 ...   \n",
       "T1101TS013_5             0.51803               0.7385              0.7623   \n",
       "T1101TS031_4             0.55879               0.6791              0.6607   \n",
       "T1101TS140_5             0.57418               0.7006              0.7311   \n",
       "T1101TS435_4             0.54556               0.6293              0.6036   \n",
       "T1101TS337_4             0.51647               0.6775              0.6641   \n",
       "\n",
       "                  P3De  ModFOLD8  ...  MolPrb_ramfv     N1     N2  DIST  \\\n",
       "T1024TS075_1  0.567581  0.581992  ...         95.32  408.0  391.0   4.0   \n",
       "T1024TS050_4  0.532019  0.570982  ...         93.10  408.0  391.0   4.0   \n",
       "T1024TS211_4  0.492319  0.536132  ...         84.68  374.0  391.0   4.0   \n",
       "T1024TS367_5  0.613875  0.578979  ...         96.80  408.0  391.0   4.0   \n",
       "T1024TS278_1  0.702875  0.557215  ...         97.54  408.0  391.0   4.0   \n",
       "...                ...       ...  ...           ...    ...    ...   ...   \n",
       "T1101TS013_5  0.625477  0.527876  ...         94.30  318.0  297.0   4.0   \n",
       "T1101TS031_4  0.594282  0.537432  ...         90.19  318.0  297.0   4.0   \n",
       "T1101TS140_5  0.590116  0.562642  ...         91.14  318.0  297.0   4.0   \n",
       "T1101TS435_4  0.549051  0.506801  ...         79.43  318.0  297.0   4.0   \n",
       "T1101TS337_4  0.577639  0.531305  ...         93.63  318.0  297.0   4.0   \n",
       "\n",
       "                  N  RMSD  GDT_TS  LGA_S3   LGA_Q  Target  \n",
       "T1024TS075_1  203.0  2.48  47.059  45.012   7.868   T1024  \n",
       "T1024TS050_4  224.0  2.69  50.256  48.095   8.024   T1024  \n",
       "T1024TS211_4  199.0  2.32  46.036  46.466   8.220   T1024  \n",
       "T1024TS367_5  328.0  2.33  60.934  62.641  13.478   T1024  \n",
       "T1024TS278_1  289.0  2.26  59.910  55.603  12.245   T1024  \n",
       "...             ...   ...     ...     ...     ...     ...  \n",
       "T1101TS013_5  172.0  1.94  47.138  43.689   8.418   T1101  \n",
       "T1101TS031_4  188.0  1.88  51.010  48.073   9.512   T1101  \n",
       "T1101TS140_5  200.0  2.56  57.239  50.569   7.505   T1101  \n",
       "T1101TS435_4  168.0  2.40  49.579  43.283   6.709   T1101  \n",
       "T1101TS337_4  183.0  2.07  52.946  45.451   8.419   T1101  \n",
       "\n",
       "[12444 rows x 67 columns]"
      ],
      "text/html": "<div>\n<style scoped>\n    .dataframe tbody tr th:only-of-type {\n        vertical-align: middle;\n    }\n\n    .dataframe tbody tr th {\n        vertical-align: top;\n    }\n\n    .dataframe thead th {\n        text-align: right;\n    }\n</style>\n<table border=\"1\" class=\"dataframe\">\n  <thead>\n    <tr style=\"text-align: right;\">\n      <th></th>\n      <th>3DCNN_prof</th>\n      <th>ProQ3D</th>\n      <th>GraphQA</th>\n      <th>angleQA</th>\n      <th>ProQ2</th>\n      <th>DAVIS-EMAconsensus</th>\n      <th>BAKER-ROSETTASERVER</th>\n      <th>BAKER-experimental</th>\n      <th>P3De</th>\n      <th>ModFOLD8</th>\n      <th>...</th>\n      <th>MolPrb_ramfv</th>\n      <th>N1</th>\n      <th>N2</th>\n      <th>DIST</th>\n      <th>N</th>\n      <th>RMSD</th>\n      <th>GDT_TS</th>\n      <th>LGA_S3</th>\n      <th>LGA_Q</th>\n      <th>Target</th>\n    </tr>\n  </thead>\n  <tbody>\n    <tr>\n      <th>T1024TS075_1</th>\n      <td>0.66066</td>\n      <td>0.586251</td>\n      <td>0.649</td>\n      <td>0.467</td>\n      <td>0.598</td>\n      <td>0.64812</td>\n      <td>0.6782</td>\n      <td>0.6175</td>\n      <td>0.567581</td>\n      <td>0.581992</td>\n      <td>...</td>\n      <td>95.32</td>\n      <td>408.0</td>\n      <td>391.0</td>\n      <td>4.0</td>\n      <td>203.0</td>\n      <td>2.48</td>\n      <td>47.059</td>\n      <td>45.012</td>\n      <td>7.868</td>\n      <td>T1024</td>\n    </tr>\n    <tr>\n      <th>T1024TS050_4</th>\n      <td>0.56958</td>\n      <td>0.540781</td>\n      <td>0.579</td>\n      <td>0.416</td>\n      <td>0.547</td>\n      <td>0.62409</td>\n      <td>0.6012</td>\n      <td>0.5421</td>\n      <td>0.532019</td>\n      <td>0.570982</td>\n      <td>...</td>\n      <td>93.10</td>\n      <td>408.0</td>\n      <td>391.0</td>\n      <td>4.0</td>\n      <td>224.0</td>\n      <td>2.69</td>\n      <td>50.256</td>\n      <td>48.095</td>\n      <td>8.024</td>\n      <td>T1024</td>\n    </tr>\n    <tr>\n      <th>T1024TS211_4</th>\n      <td>0.56007</td>\n      <td>0.531768</td>\n      <td>0.584</td>\n      <td>0.419</td>\n      <td>0.541</td>\n      <td>0.61050</td>\n      <td>0.6253</td>\n      <td>0.5918</td>\n      <td>0.492319</td>\n      <td>0.536132</td>\n      <td>...</td>\n      <td>84.68</td>\n      <td>374.0</td>\n      <td>391.0</td>\n      <td>4.0</td>\n      <td>199.0</td>\n      <td>2.32</td>\n      <td>46.036</td>\n      <td>46.466</td>\n      <td>8.220</td>\n      <td>T1024</td>\n    </tr>\n    <tr>\n      <th>T1024TS367_5</th>\n      <td>0.69797</td>\n      <td>0.684465</td>\n      <td>0.646</td>\n      <td>0.601</td>\n      <td>0.610</td>\n      <td>0.68982</td>\n      <td>0.7432</td>\n      <td>0.7308</td>\n      <td>0.613875</td>\n      <td>0.578979</td>\n      <td>...</td>\n      <td>96.80</td>\n      <td>408.0</td>\n      <td>391.0</td>\n      <td>4.0</td>\n      <td>328.0</td>\n      <td>2.33</td>\n      <td>60.934</td>\n      <td>62.641</td>\n      <td>13.478</td>\n      <td>T1024</td>\n    </tr>\n    <tr>\n      <th>T1024TS278_1</th>\n      <td>0.69687</td>\n      <td>0.750612</td>\n      <td>0.716</td>\n      <td>0.487</td>\n      <td>0.738</td>\n      <td>0.68287</td>\n      <td>0.7267</td>\n      <td>0.6677</td>\n      <td>0.702875</td>\n      <td>0.557215</td>\n      <td>...</td>\n      <td>97.54</td>\n      <td>408.0</td>\n      <td>391.0</td>\n      <td>4.0</td>\n      <td>289.0</td>\n      <td>2.26</td>\n      <td>59.910</td>\n      <td>55.603</td>\n      <td>12.245</td>\n      <td>T1024</td>\n    </tr>\n    <tr>\n      <th>...</th>\n      <td>...</td>\n      <td>...</td>\n      <td>...</td>\n      <td>...</td>\n      <td>...</td>\n      <td>...</td>\n      <td>...</td>\n      <td>...</td>\n      <td>...</td>\n      <td>...</td>\n      <td>...</td>\n      <td>...</td>\n      <td>...</td>\n      <td>...</td>\n      <td>...</td>\n      <td>...</td>\n      <td>...</td>\n      <td>...</td>\n      <td>...</td>\n      <td>...</td>\n      <td>...</td>\n    </tr>\n    <tr>\n      <th>T1101TS013_5</th>\n      <td>0.67675</td>\n      <td>0.653284</td>\n      <td>0.719</td>\n      <td>0.708</td>\n      <td>0.791</td>\n      <td>0.51803</td>\n      <td>0.7385</td>\n      <td>0.7623</td>\n      <td>0.625477</td>\n      <td>0.527876</td>\n      <td>...</td>\n      <td>94.30</td>\n      <td>318.0</td>\n      <td>297.0</td>\n      <td>4.0</td>\n      <td>172.0</td>\n      <td>1.94</td>\n      <td>47.138</td>\n      <td>43.689</td>\n      <td>8.418</td>\n      <td>T1101</td>\n    </tr>\n    <tr>\n      <th>T1101TS031_4</th>\n      <td>0.71093</td>\n      <td>0.602920</td>\n      <td>0.668</td>\n      <td>0.693</td>\n      <td>0.666</td>\n      <td>0.55879</td>\n      <td>0.6791</td>\n      <td>0.6607</td>\n      <td>0.594282</td>\n      <td>0.537432</td>\n      <td>...</td>\n      <td>90.19</td>\n      <td>318.0</td>\n      <td>297.0</td>\n      <td>4.0</td>\n      <td>188.0</td>\n      <td>1.88</td>\n      <td>51.010</td>\n      <td>48.073</td>\n      <td>9.512</td>\n      <td>T1101</td>\n    </tr>\n    <tr>\n      <th>T1101TS140_5</th>\n      <td>0.68995</td>\n      <td>0.624382</td>\n      <td>0.704</td>\n      <td>0.762</td>\n      <td>0.676</td>\n      <td>0.57418</td>\n      <td>0.7006</td>\n      <td>0.7311</td>\n      <td>0.590116</td>\n      <td>0.562642</td>\n      <td>...</td>\n      <td>91.14</td>\n      <td>318.0</td>\n      <td>297.0</td>\n      <td>4.0</td>\n      <td>200.0</td>\n      <td>2.56</td>\n      <td>57.239</td>\n      <td>50.569</td>\n      <td>7.505</td>\n      <td>T1101</td>\n    </tr>\n    <tr>\n      <th>T1101TS435_4</th>\n      <td>0.66884</td>\n      <td>0.533206</td>\n      <td>0.666</td>\n      <td>0.692</td>\n      <td>0.691</td>\n      <td>0.54556</td>\n      <td>0.6293</td>\n      <td>0.6036</td>\n      <td>0.549051</td>\n      <td>0.506801</td>\n      <td>...</td>\n      <td>79.43</td>\n      <td>318.0</td>\n      <td>297.0</td>\n      <td>4.0</td>\n      <td>168.0</td>\n      <td>2.40</td>\n      <td>49.579</td>\n      <td>43.283</td>\n      <td>6.709</td>\n      <td>T1101</td>\n    </tr>\n    <tr>\n      <th>T1101TS337_4</th>\n      <td>0.65246</td>\n      <td>0.579813</td>\n      <td>0.689</td>\n      <td>0.620</td>\n      <td>0.662</td>\n      <td>0.51647</td>\n      <td>0.6775</td>\n      <td>0.6641</td>\n      <td>0.577639</td>\n      <td>0.531305</td>\n      <td>...</td>\n      <td>93.63</td>\n      <td>318.0</td>\n      <td>297.0</td>\n      <td>4.0</td>\n      <td>183.0</td>\n      <td>2.07</td>\n      <td>52.946</td>\n      <td>45.451</td>\n      <td>8.419</td>\n      <td>T1101</td>\n    </tr>\n  </tbody>\n</table>\n<p>12444 rows × 67 columns</p>\n</div>"
     },
     "metadata": {},
     "execution_count": 11
    }
   ],
   "source": [
    "df"
   ]
  },
  {
   "cell_type": "code",
   "execution_count": 31,
   "metadata": {},
   "outputs": [
    {
     "output_type": "execute_result",
     "data": {
      "text/plain": [
       "              3DCNN_prof    ProQ3D  GraphQA  angleQA  ProQ2  \\\n",
       "T1024TS075_1     0.66066  0.586251    0.649    0.467  0.598   \n",
       "T1024TS050_4     0.56958  0.540781    0.579    0.416  0.547   \n",
       "T1024TS211_4     0.56007  0.531768    0.584    0.419  0.541   \n",
       "T1024TS367_5     0.69797  0.684465    0.646    0.601  0.610   \n",
       "T1024TS278_1     0.69687  0.750612    0.716    0.487  0.738   \n",
       "...                  ...       ...      ...      ...    ...   \n",
       "T1101TS013_5     0.67675  0.653284    0.719    0.708  0.791   \n",
       "T1101TS031_4     0.71093  0.602920    0.668    0.693  0.666   \n",
       "T1101TS140_5     0.68995  0.624382    0.704    0.762  0.676   \n",
       "T1101TS435_4     0.66884  0.533206    0.666    0.692  0.691   \n",
       "T1101TS337_4     0.65246  0.579813    0.689    0.620  0.662   \n",
       "\n",
       "              DAVIS-EMAconsensus  BAKER-ROSETTASERVER  BAKER-experimental  \\\n",
       "T1024TS075_1             0.64812               0.6782              0.6175   \n",
       "T1024TS050_4             0.62409               0.6012              0.5421   \n",
       "T1024TS211_4             0.61050               0.6253              0.5918   \n",
       "T1024TS367_5             0.68982               0.7432              0.7308   \n",
       "T1024TS278_1             0.68287               0.7267              0.6677   \n",
       "...                          ...                  ...                 ...   \n",
       "T1101TS013_5             0.51803               0.7385              0.7623   \n",
       "T1101TS031_4             0.55879               0.6791              0.6607   \n",
       "T1101TS140_5             0.57418               0.7006              0.7311   \n",
       "T1101TS435_4             0.54556               0.6293              0.6036   \n",
       "T1101TS337_4             0.51647               0.6775              0.6641   \n",
       "\n",
       "                  P3De  ModFOLD8  ...  MolPrb_ramfv     N1     N2  DIST  \\\n",
       "T1024TS075_1  0.567581  0.581992  ...         95.32  408.0  391.0   4.0   \n",
       "T1024TS050_4  0.532019  0.570982  ...         93.10  408.0  391.0   4.0   \n",
       "T1024TS211_4  0.492319  0.536132  ...         84.68  374.0  391.0   4.0   \n",
       "T1024TS367_5  0.613875  0.578979  ...         96.80  408.0  391.0   4.0   \n",
       "T1024TS278_1  0.702875  0.557215  ...         97.54  408.0  391.0   4.0   \n",
       "...                ...       ...  ...           ...    ...    ...   ...   \n",
       "T1101TS013_5  0.625477  0.527876  ...         94.30  318.0  297.0   4.0   \n",
       "T1101TS031_4  0.594282  0.537432  ...         90.19  318.0  297.0   4.0   \n",
       "T1101TS140_5  0.590116  0.562642  ...         91.14  318.0  297.0   4.0   \n",
       "T1101TS435_4  0.549051  0.506801  ...         79.43  318.0  297.0   4.0   \n",
       "T1101TS337_4  0.577639  0.531305  ...         93.63  318.0  297.0   4.0   \n",
       "\n",
       "                  N  RMSD  GDT_TS  LGA_S3   LGA_Q  Target  \n",
       "T1024TS075_1  203.0  2.48  47.059  45.012   7.868   T1024  \n",
       "T1024TS050_4  224.0  2.69  50.256  48.095   8.024   T1024  \n",
       "T1024TS211_4  199.0  2.32  46.036  46.466   8.220   T1024  \n",
       "T1024TS367_5  328.0  2.33  60.934  62.641  13.478   T1024  \n",
       "T1024TS278_1  289.0  2.26  59.910  55.603  12.245   T1024  \n",
       "...             ...   ...     ...     ...     ...     ...  \n",
       "T1101TS013_5  172.0  1.94  47.138  43.689   8.418   T1101  \n",
       "T1101TS031_4  188.0  1.88  51.010  48.073   9.512   T1101  \n",
       "T1101TS140_5  200.0  2.56  57.239  50.569   7.505   T1101  \n",
       "T1101TS435_4  168.0  2.40  49.579  43.283   6.709   T1101  \n",
       "T1101TS337_4  183.0  2.07  52.946  45.451   8.419   T1101  \n",
       "\n",
       "[8694 rows x 67 columns]"
      ],
      "text/html": "<div>\n<style scoped>\n    .dataframe tbody tr th:only-of-type {\n        vertical-align: middle;\n    }\n\n    .dataframe tbody tr th {\n        vertical-align: top;\n    }\n\n    .dataframe thead th {\n        text-align: right;\n    }\n</style>\n<table border=\"1\" class=\"dataframe\">\n  <thead>\n    <tr style=\"text-align: right;\">\n      <th></th>\n      <th>3DCNN_prof</th>\n      <th>ProQ3D</th>\n      <th>GraphQA</th>\n      <th>angleQA</th>\n      <th>ProQ2</th>\n      <th>DAVIS-EMAconsensus</th>\n      <th>BAKER-ROSETTASERVER</th>\n      <th>BAKER-experimental</th>\n      <th>P3De</th>\n      <th>ModFOLD8</th>\n      <th>...</th>\n      <th>MolPrb_ramfv</th>\n      <th>N1</th>\n      <th>N2</th>\n      <th>DIST</th>\n      <th>N</th>\n      <th>RMSD</th>\n      <th>GDT_TS</th>\n      <th>LGA_S3</th>\n      <th>LGA_Q</th>\n      <th>Target</th>\n    </tr>\n  </thead>\n  <tbody>\n    <tr>\n      <th>T1024TS075_1</th>\n      <td>0.66066</td>\n      <td>0.586251</td>\n      <td>0.649</td>\n      <td>0.467</td>\n      <td>0.598</td>\n      <td>0.64812</td>\n      <td>0.6782</td>\n      <td>0.6175</td>\n      <td>0.567581</td>\n      <td>0.581992</td>\n      <td>...</td>\n      <td>95.32</td>\n      <td>408.0</td>\n      <td>391.0</td>\n      <td>4.0</td>\n      <td>203.0</td>\n      <td>2.48</td>\n      <td>47.059</td>\n      <td>45.012</td>\n      <td>7.868</td>\n      <td>T1024</td>\n    </tr>\n    <tr>\n      <th>T1024TS050_4</th>\n      <td>0.56958</td>\n      <td>0.540781</td>\n      <td>0.579</td>\n      <td>0.416</td>\n      <td>0.547</td>\n      <td>0.62409</td>\n      <td>0.6012</td>\n      <td>0.5421</td>\n      <td>0.532019</td>\n      <td>0.570982</td>\n      <td>...</td>\n      <td>93.10</td>\n      <td>408.0</td>\n      <td>391.0</td>\n      <td>4.0</td>\n      <td>224.0</td>\n      <td>2.69</td>\n      <td>50.256</td>\n      <td>48.095</td>\n      <td>8.024</td>\n      <td>T1024</td>\n    </tr>\n    <tr>\n      <th>T1024TS211_4</th>\n      <td>0.56007</td>\n      <td>0.531768</td>\n      <td>0.584</td>\n      <td>0.419</td>\n      <td>0.541</td>\n      <td>0.61050</td>\n      <td>0.6253</td>\n      <td>0.5918</td>\n      <td>0.492319</td>\n      <td>0.536132</td>\n      <td>...</td>\n      <td>84.68</td>\n      <td>374.0</td>\n      <td>391.0</td>\n      <td>4.0</td>\n      <td>199.0</td>\n      <td>2.32</td>\n      <td>46.036</td>\n      <td>46.466</td>\n      <td>8.220</td>\n      <td>T1024</td>\n    </tr>\n    <tr>\n      <th>T1024TS367_5</th>\n      <td>0.69797</td>\n      <td>0.684465</td>\n      <td>0.646</td>\n      <td>0.601</td>\n      <td>0.610</td>\n      <td>0.68982</td>\n      <td>0.7432</td>\n      <td>0.7308</td>\n      <td>0.613875</td>\n      <td>0.578979</td>\n      <td>...</td>\n      <td>96.80</td>\n      <td>408.0</td>\n      <td>391.0</td>\n      <td>4.0</td>\n      <td>328.0</td>\n      <td>2.33</td>\n      <td>60.934</td>\n      <td>62.641</td>\n      <td>13.478</td>\n      <td>T1024</td>\n    </tr>\n    <tr>\n      <th>T1024TS278_1</th>\n      <td>0.69687</td>\n      <td>0.750612</td>\n      <td>0.716</td>\n      <td>0.487</td>\n      <td>0.738</td>\n      <td>0.68287</td>\n      <td>0.7267</td>\n      <td>0.6677</td>\n      <td>0.702875</td>\n      <td>0.557215</td>\n      <td>...</td>\n      <td>97.54</td>\n      <td>408.0</td>\n      <td>391.0</td>\n      <td>4.0</td>\n      <td>289.0</td>\n      <td>2.26</td>\n      <td>59.910</td>\n      <td>55.603</td>\n      <td>12.245</td>\n      <td>T1024</td>\n    </tr>\n    <tr>\n      <th>...</th>\n      <td>...</td>\n      <td>...</td>\n      <td>...</td>\n      <td>...</td>\n      <td>...</td>\n      <td>...</td>\n      <td>...</td>\n      <td>...</td>\n      <td>...</td>\n      <td>...</td>\n      <td>...</td>\n      <td>...</td>\n      <td>...</td>\n      <td>...</td>\n      <td>...</td>\n      <td>...</td>\n      <td>...</td>\n      <td>...</td>\n      <td>...</td>\n      <td>...</td>\n      <td>...</td>\n    </tr>\n    <tr>\n      <th>T1101TS013_5</th>\n      <td>0.67675</td>\n      <td>0.653284</td>\n      <td>0.719</td>\n      <td>0.708</td>\n      <td>0.791</td>\n      <td>0.51803</td>\n      <td>0.7385</td>\n      <td>0.7623</td>\n      <td>0.625477</td>\n      <td>0.527876</td>\n      <td>...</td>\n      <td>94.30</td>\n      <td>318.0</td>\n      <td>297.0</td>\n      <td>4.0</td>\n      <td>172.0</td>\n      <td>1.94</td>\n      <td>47.138</td>\n      <td>43.689</td>\n      <td>8.418</td>\n      <td>T1101</td>\n    </tr>\n    <tr>\n      <th>T1101TS031_4</th>\n      <td>0.71093</td>\n      <td>0.602920</td>\n      <td>0.668</td>\n      <td>0.693</td>\n      <td>0.666</td>\n      <td>0.55879</td>\n      <td>0.6791</td>\n      <td>0.6607</td>\n      <td>0.594282</td>\n      <td>0.537432</td>\n      <td>...</td>\n      <td>90.19</td>\n      <td>318.0</td>\n      <td>297.0</td>\n      <td>4.0</td>\n      <td>188.0</td>\n      <td>1.88</td>\n      <td>51.010</td>\n      <td>48.073</td>\n      <td>9.512</td>\n      <td>T1101</td>\n    </tr>\n    <tr>\n      <th>T1101TS140_5</th>\n      <td>0.68995</td>\n      <td>0.624382</td>\n      <td>0.704</td>\n      <td>0.762</td>\n      <td>0.676</td>\n      <td>0.57418</td>\n      <td>0.7006</td>\n      <td>0.7311</td>\n      <td>0.590116</td>\n      <td>0.562642</td>\n      <td>...</td>\n      <td>91.14</td>\n      <td>318.0</td>\n      <td>297.0</td>\n      <td>4.0</td>\n      <td>200.0</td>\n      <td>2.56</td>\n      <td>57.239</td>\n      <td>50.569</td>\n      <td>7.505</td>\n      <td>T1101</td>\n    </tr>\n    <tr>\n      <th>T1101TS435_4</th>\n      <td>0.66884</td>\n      <td>0.533206</td>\n      <td>0.666</td>\n      <td>0.692</td>\n      <td>0.691</td>\n      <td>0.54556</td>\n      <td>0.6293</td>\n      <td>0.6036</td>\n      <td>0.549051</td>\n      <td>0.506801</td>\n      <td>...</td>\n      <td>79.43</td>\n      <td>318.0</td>\n      <td>297.0</td>\n      <td>4.0</td>\n      <td>168.0</td>\n      <td>2.40</td>\n      <td>49.579</td>\n      <td>43.283</td>\n      <td>6.709</td>\n      <td>T1101</td>\n    </tr>\n    <tr>\n      <th>T1101TS337_4</th>\n      <td>0.65246</td>\n      <td>0.579813</td>\n      <td>0.689</td>\n      <td>0.620</td>\n      <td>0.662</td>\n      <td>0.51647</td>\n      <td>0.6775</td>\n      <td>0.6641</td>\n      <td>0.577639</td>\n      <td>0.531305</td>\n      <td>...</td>\n      <td>93.63</td>\n      <td>318.0</td>\n      <td>297.0</td>\n      <td>4.0</td>\n      <td>183.0</td>\n      <td>2.07</td>\n      <td>52.946</td>\n      <td>45.451</td>\n      <td>8.419</td>\n      <td>T1101</td>\n    </tr>\n  </tbody>\n</table>\n<p>8694 rows × 67 columns</p>\n</div>"
     },
     "metadata": {},
     "execution_count": 31
    }
   ],
   "source": [
    "drop_df = df.dropna(subset=['GDT_TS'])\n",
    "drop_df = drop_df.groupby('Target').filter(lambda x: x['GDT_TS'].max() > 40)\n",
    "fil_target = ['T1027', 'T1088'] + ['T1048', 'T1062', 'T1072s1', 'T1098']\n",
    "fil_df = drop_df.groupby('Target').filter(lambda x: x.name not in fil_target)\n",
    "fil_df"
   ]
  },
  {
   "cell_type": "code",
   "execution_count": 32,
   "metadata": {},
   "outputs": [
    {
     "output_type": "execute_result",
     "data": {
      "text/plain": [
       "58"
      ]
     },
     "metadata": {},
     "execution_count": 32
    }
   ],
   "source": [
    "len(fil_df.groupby('Target'))"
   ]
  },
  {
   "cell_type": "code",
   "execution_count": 36,
   "metadata": {
    "tags": []
   },
   "outputs": [
    {
     "output_type": "stream",
     "name": "stdout",
     "text": [
      "../../pdb/stage_2/T1024\n",
      "../../pdb/stage_2/T1025\n",
      "../../pdb/stage_2/T1026\n",
      "../../pdb/stage_2/T1027\n",
      "../../pdb/stage_2/T1028\n",
      "../../pdb/stage_2/T1029\n",
      "../../pdb/stage_2/T1030\n",
      "../../pdb/stage_2/T1031\n",
      "../../pdb/stage_2/T1032\n",
      "../../pdb/stage_2/T1033\n",
      "../../pdb/stage_2/T1034\n",
      "../../pdb/stage_2/T1035\n",
      "../../pdb/stage_2/T1036s1\n",
      "../../pdb/stage_2/T1037\n",
      "../../pdb/stage_2/T1038\n",
      "../../pdb/stage_2/T1039\n",
      "../../pdb/stage_2/T1040\n",
      "../../pdb/stage_2/T1041\n",
      "../../pdb/stage_2/T1042\n",
      "../../pdb/stage_2/T1043\n",
      "../../pdb/stage_2/T1045s1\n",
      "../../pdb/stage_2/T1045s2\n",
      "../../pdb/stage_2/T1046s1\n",
      "../../pdb/stage_2/T1046s2\n",
      "../../pdb/stage_2/T1047s1\n",
      "../../pdb/stage_2/T1047s2\n",
      "../../pdb/stage_2/T1048\n",
      "../../pdb/stage_2/T1049\n",
      "../../pdb/stage_2/T1050\n",
      "../../pdb/stage_2/T1052\n",
      "../../pdb/stage_2/T1053\n",
      "../../pdb/stage_2/T1054\n",
      "../../pdb/stage_2/T1055\n",
      "../../pdb/stage_2/T1056\n",
      "../../pdb/stage_2/T1057\n",
      "../../pdb/stage_2/T1058\n",
      "../../pdb/stage_2/T1060s2\n",
      "../../pdb/stage_2/T1060s3\n",
      "../../pdb/stage_2/T1061\n",
      "../../pdb/stage_2/T1062\n",
      "../../pdb/stage_2/T1064\n",
      "../../pdb/stage_2/T1065s1\n",
      "../../pdb/stage_2/T1065s2\n",
      "../../pdb/stage_2/T1067\n",
      "../../pdb/stage_2/T1068\n",
      "../../pdb/stage_2/T1070\n",
      "../../pdb/stage_2/T1072s1\n",
      "../../pdb/stage_2/T1073\n",
      "../../pdb/stage_2/T1074\n",
      "../../pdb/stage_2/T1076\n",
      "../../pdb/stage_2/T1078\n",
      "../../pdb/stage_2/T1079\n",
      "../../pdb/stage_2/T1080\n",
      "../../pdb/stage_2/T1082\n",
      "../../pdb/stage_2/T1083\n",
      "../../pdb/stage_2/T1084\n",
      "../../pdb/stage_2/T1085\n",
      "../../pdb/stage_2/T1086\n",
      "../../pdb/stage_2/T1087\n",
      "../../pdb/stage_2/T1088\n",
      "../../pdb/stage_2/T1089\n",
      "../../pdb/stage_2/T1090\n",
      "../../pdb/stage_2/T1091\n",
      "../../pdb/stage_2/T1092\n",
      "../../pdb/stage_2/T1093\n",
      "../../pdb/stage_2/T1094\n",
      "../../pdb/stage_2/T1095\n",
      "../../pdb/stage_2/T1096\n",
      "../../pdb/stage_2/T1098\n",
      "../../pdb/stage_2/T1099\n",
      "../../pdb/stage_2/T1100\n",
      "../../pdb/stage_2/T1101\n"
     ]
    }
   ],
   "source": [
    "import shutil\n",
    "\n",
    "for target, group in df.groupby('Target'):\n",
    "    target_outdir = Path('../../pdb/stage_2/') / target\n",
    "    target_outdir.mkdir(parents=True, exist_ok=True)\n",
    "    print(target_outdir)\n",
    "    target_indir = Path('../predictions/regular') / target\n",
    "    for index in group.index:\n",
    "        outpath = target_outdir / index\n",
    "        if not outpath.exists():\n",
    "            shutil.copy(target_indir / index, outpath)"
   ]
  },
  {
   "source": [
    "## cp alphafold model"
   ],
   "cell_type": "markdown",
   "metadata": {}
  },
  {
   "cell_type": "code",
   "execution_count": 43,
   "metadata": {},
   "outputs": [
    {
     "output_type": "stream",
     "name": "stdout",
     "text": [
      "../../pdb/alphafold2/T1024\n../../pdb/alphafold2/T1025\n../../pdb/alphafold2/T1026\n../../pdb/alphafold2/T1027\n../../pdb/alphafold2/T1028\n../../pdb/alphafold2/T1029\n../../pdb/alphafold2/T1030\n../../pdb/alphafold2/T1031\n../../pdb/alphafold2/T1032\n../../pdb/alphafold2/T1033\n../../pdb/alphafold2/T1034\n../../pdb/alphafold2/T1035\n../../pdb/alphafold2/T1036s1\n../../pdb/alphafold2/T1037\n../../pdb/alphafold2/T1038\n../../pdb/alphafold2/T1039\n../../pdb/alphafold2/T1040\n../../pdb/alphafold2/T1041\n../../pdb/alphafold2/T1042\n../../pdb/alphafold2/T1043\n../../pdb/alphafold2/T1045s1\n../../pdb/alphafold2/T1045s2\n../../pdb/alphafold2/T1046s1\n../../pdb/alphafold2/T1046s2\n../../pdb/alphafold2/T1047s1\n../../pdb/alphafold2/T1047s2\n../../pdb/alphafold2/T1048\n../../pdb/alphafold2/T1049\n../../pdb/alphafold2/T1050\n../../pdb/alphafold2/T1052\n../../pdb/alphafold2/T1053\n../../pdb/alphafold2/T1054\n../../pdb/alphafold2/T1055\n../../pdb/alphafold2/T1056\n../../pdb/alphafold2/T1057\n../../pdb/alphafold2/T1058\n../../pdb/alphafold2/T1060s2\n../../pdb/alphafold2/T1060s3\n../../pdb/alphafold2/T1061\n../../pdb/alphafold2/T1062\n../../pdb/alphafold2/T1064\n../../pdb/alphafold2/T1065s1\n../../pdb/alphafold2/T1065s2\n../../pdb/alphafold2/T1067\n../../pdb/alphafold2/T1068\n../../pdb/alphafold2/T1070\n../../pdb/alphafold2/T1072s1\n../../pdb/alphafold2/T1073\n../../pdb/alphafold2/T1074\n../../pdb/alphafold2/T1076\n../../pdb/alphafold2/T1078\n../../pdb/alphafold2/T1079\n../../pdb/alphafold2/T1080\n../../pdb/alphafold2/T1082\n../../pdb/alphafold2/T1083\n../../pdb/alphafold2/T1084\n../../pdb/alphafold2/T1085\n../../pdb/alphafold2/T1086\n../../pdb/alphafold2/T1087\n../../pdb/alphafold2/T1088\n../../pdb/alphafold2/T1089\n../../pdb/alphafold2/T1090\n../../pdb/alphafold2/T1091\n../../pdb/alphafold2/T1092\n../../pdb/alphafold2/T1093\n../../pdb/alphafold2/T1094\n../../pdb/alphafold2/T1095\n../../pdb/alphafold2/T1096\n../../pdb/alphafold2/T1098\n../../pdb/alphafold2/T1099\n../../pdb/alphafold2/T1100\n../../pdb/alphafold2/T1101\n"
     ]
    }
   ],
   "source": [
    "for target, group in df.groupby('Target'):\n",
    "    target_outdir = Path('../../pdb/alphafold2/') / target\n",
    "    target_outdir.mkdir(parents=True, exist_ok=True)\n",
    "    print(target_outdir)\n",
    "    target_indir = Path('../predictions/regular') / target\n",
    "    for i in range(1, 6):\n",
    "        file_name = target + 'TS427_' + str(i)\n",
    "        input = target_indir / file_name\n",
    "        outpath = target_outdir / file_name\n",
    "        if input.exists() and not outpath.exists():\n",
    "            shutil.copy(input, outpath)\n",
    "    if len(list(target_outdir.glob('*'))) == 0:\n",
    "        os.removedirs(target_outdir)"
   ]
  }
 ]
}